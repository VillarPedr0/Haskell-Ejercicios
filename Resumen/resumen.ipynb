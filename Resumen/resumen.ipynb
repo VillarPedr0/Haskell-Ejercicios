{
 "cells": [
  {
   "attachments": {},
   "cell_type": "markdown",
   "metadata": {},
   "source": [
    "# Haskell - Resumen Completo"
   ]
  },
  {
   "attachments": {},
   "cell_type": "markdown",
   "metadata": {},
   "source": [
    "Haskell es un lenguaje de **programación puramente funcional**. En los lenguajes imperativos obtenemos resultados dándole al computador una secuencia de tareas que luego éste ejecutará. Mientras las ejecuta, puede cambiar de estado. Por ejemplo, establecemos la variable a a 5, realizamos algunas tareas y luego cambiamos el valor de la variable anterior. Estos lenguajes poseen estructuras de control de flujo para realizar ciertas acciones varias veces (for, while...). Con la programación puramente funcional no decimos al computador lo que tiene que hacer, sino más bien, decimos como son las cosas.\n",
    "\n",
    "----"
   ]
  },
  {
   "attachments": {},
   "cell_type": "markdown",
   "metadata": {},
   "source": [
    "## Caracteristicas \n",
    "* **Haskell es perezoso**. Es decir, a menos que le indiquemos lo contrario, Haskell no ejecutará funciones ni calculará resultados hasta que se vea realmente forzado a hacerlo. Esto funciona muy bien junto con la transparencia referencial y permite que veamos los programas como una serie de transformaciones de datos. Incluso nos permite hacer cosas interesantes como estructuras de datos infinitas. Digamos que tenemos una lista de números inmutables *xs = [1,2,3,4,5,6,7,8]* y una función doubleMe que multiplica cada elemento por 2 y devuelve una nueva lista. Si quisiéramos multiplicar nuestra lista por 8 en un lenguaje imperativo he hiciéramos doubleMe(doubleMe(doubleMe(xs))), probablemente el computador recorrería la lista, haría una copia y devolvería el valor. Luego, recorrería otras dos veces más la lista y devolvería el valor final. En un lenguaje perezoso, llamar a doubleMe con una lista sin forzar que muestre el valor acaba con un programa diciéndote “Claro claro, ¡luego lo hago!”. Pero cuando quieres ver el resultado, el primer doubleMe dice al segundo que quiere el resultado, ¡ahora! El segundo dice al tercero eso mismo y éste a regañadientes devuelve un 1 duplicado, lo cual es un 2. El segundo lo recibe y devuelve un 4 al primero. El primero ve el resultado y dice que el primer elemento de la lista es un 8. De este modo, el computador solo hace un recorrido a través de la lista y solo cuando lo necesitamos. Cuando queremos calcular algo a partir de unos datos iniciales en un lenguaje perezoso, solo tenemos que tomar estos datos e ir transformándolos y moldeándolos hasta que se parezcan al resultado que deseamos.\n",
    "* **Haskell es un lenguaje tipificado estáticamente**. Cuando compilamos un programa, el compilador sabe que trozos del código son enteros, cuales son cadenas de texto, etc. Gracias a esto un montón de posibles errores son capturados en tiempo de compilación. Si intentamos sumar un número y una cadena de texto, el compilador nos dará error. Haskell usa un fantástico sistema de tipos que posee inferencia de tipos. Esto significa que no tenemos que etiquetar cada trozo de código explícitamente con un tipo porque el sistema de tipos lo puede deducir de forma inteligente. La inferencia de tipos también permite que nuestro código sea más general, si hemos creado una función que toma dos números y los suma y no establecemos explícitamente sus tipos, la función aceptará cualquier par de parámetros que actúen como números.\n",
    "* **Haskell es elegante y conciso**. Se debe a que utiliza conceptos de alto nivel. Los programas Haskell son normalmente más cortos que los equivalentes imperativos. Y los programas cortos son más fáciles de mantener que los largos, además de que poseen menos errores.\n",
    "\n",
    "\n",
    "----"
   ]
  },
  {
   "attachments": {},
   "cell_type": "markdown",
   "metadata": {},
   "source": [
    "## Funciones predefinidas en haskell\n",
    "| Funciones | Definición |\n",
    "| --------- | ---------- |\n",
    "| x + y | la suma de x e y |\n",
    "| x - y | la resta de x e y |\n",
    "| x / y | el cociente de x entre y |\n",
    "| x  y | es x elevado a y |\n",
    "| x == y | se verifica si x es igual a y |\n",
    "| x /= y | se verifica si x es distinto de y |\n",
    "| x < y | se verifica si x es menor que y |\n",
    "| x <= y  | se verifica si x es menor o igual que y |\n",
    "| x > y | se verifica si x es mayor que y |\n",
    "| x >= y | se verifica si x es mayor o igual que y |\n",
    "| x && y | es la conjunción de x e y |\n",
    "| x $ \\mid \\mid  $ y | es la disyunción de x e y |\n",
    "| x:ys | es la lista obtenida añadiendo x al principio de ys |\n",
    "| xs ++ ys | es la concatenación de xs e ys |\n",
    "| xs !! n | es el elemento n–ésimo de xs |\n",
    "| f . g | es la composición de f y g |\n",
    "| abs x | es el valor absoluto de x |\n",
    "| and xs | es la conjunción de la lista de booleanos xs |\n",
    "|ceiling x | es el menor entero no menor que x |\n",
    "|chr n | es el carácter cuyo código ASCII es n |\n",
    "| concat xss | es la concatenación de la lista de listas xss |\n",
    "| const x y  | es x |\n",
    "| div x y | es la división entera de x entre y |\n",
    "| drop n xs | borra los n primeros elementos de xs |\n",
    "| dropWhile p xs | borra el mayor prefijo de xs cuyos elementos satisfacen el predicado p |\n",
    "| elem x ys | se verifica si x pertenece a ys |\n",
    "| even x | se verifica si x es pa |\n",
    "| filter p xs | es la lista de elementos de la lista xs que verifican el predicado p |\n",
    "| flip f x y | es f y x |\n",
    "| floor x | es el mayor entero no mayor que x |\n",
    "| foldl f e xs | pliega xs de izquierda a derecha usando el operador f y el valor inicial e |\n",
    "|foldr f e xs | pliega xs de derecha a izquierda usando el operador f y el valor inicial e |\n",
    "| fromIntegral x | transforma el número entero x al tipo numérico correspondiente |\n",
    "|  fst p | es el primer elemento del par p |\n",
    "| gcd x y | es el máximo común divisor de de x e y |\n",
    "|head xs| es el primer elemento de la lista xs|\n",
    "|init xs| es la lista obtenida eliminando el último elemento de xs|\n",
    "|iterate f x| es la lista [x, f(x), f(f(x)), ...]|\n",
    "|last xs| es el último elemento de la lista xs|\n",
    "|length xs | es el número de elementos de la lista xs|\n",
    "|map f xs | es la lista obtenida aplicado f a cada elemento de xs|\n",
    "|max x y| es el máximo de x e y|\n",
    "|maximum xs| es el máximo elemento de la lista xs|\n",
    "|min x y |es el mínimo de x e y|\n",
    "|minimum xs| es el mínimo elemento de la lista xs|\n",
    "|mod x y| es el resto de x entre y|\n",
    "|not x| es la negación lógica del booleano x|\n",
    "|notElem x ys| se verifica si x no pertenece a ys|\n",
    "|null xs| se verifica si xs es la lista vacía|\n",
    "|odd x| se verifica si x es impar|\n",
    "|or xs| es la disyunción de la lista de booleanos xs|\n",
    "|ord c| es el código ASCII del carácter c|\n",
    "|product xs| es el producto de la lista de números xs|\n",
    "|read c| es la expresión representada por la cadena c|\n",
    "|rem x y| es el resto de x entre y|\n",
    "|repeat x| es la lista infinita [x, x, x, ...]|\n",
    "|replicate n x| es la lista formada por n veces el elemento x|\n",
    "|reverse xs| es la inversa de la lista xs|\n",
    "|round x |es el redondeo de x al entero más cercano|\n",
    "|scanr f e xs| es la lista de los resultados de plegar xs por la derecha con f y e|\n",
    "|show x |es la representación de x como cadena|\n",
    "|signum x |es 1 si x es positivo, 0 si x es cero y -1 si x es negativo|\n",
    "|snd p |es el segundo elemento del par p|\n",
    "|splitAt n xs| es (take n xs, drop n xs)|\n",
    "|sqrt x |es la raíz cuadrada de x|\n",
    "|sum xs |es la suma de la lista numérica xs|\n",
    "|tail xs |es la lista obtenida eliminando el primer elemento de xs|\n",
    "|take n xs |es la lista de los n primeros elementos de xs|\n",
    "|takeWhile p xs| es el mayor prefijo de xs cuyos elementos satisfacen el predicado p|\n",
    "|uncurry f |es la versión cartesiana de la función f|\n",
    "|until p f x| aplica f a x hasta que se verifique p|\n",
    "|zip xs ys| es la lista de pares formado por los correspondientes elementos de xs e ys|\n",
    "|zipWith f xs ys| se obtiene aplicando f a los correspondientes elementos de xs e ys|"
   ]
  },
  {
   "attachments": {},
   "cell_type": "markdown",
   "metadata": {},
   "source": [
    "## Creación de Funciones\n",
    "\n",
    "----\n",
    "Para comenzar creando una función que ejecute una serie de tareas que necesitemos. Primero se deben entender la diferencia entre Variables de tipo y Clases de variables.\n",
    "\n",
    "### Variables de tipo\n",
    "Haskell tiene un sistema de tipos estático. Se conoce el tipo de cada expresión en tiempo de compilación, lo que produce código más seguro. Si escribimos un programa que intenta dividir un valor del tipo booleano por un número, no llegará a compilarse. Esto es bueno ya que es mejor capturar este tipo de errores en tiempo de compilación en lugar de que el programa falle. Todo en Haskell tiene un tipo, de forma que el compilador puede razonar sobre el programa antes de compilarlo.\n",
    "Un tipo es como una etiqueta que posee toda expresión. Esta etiqueta nos dice a que categoría de cosas se ajusta la expresión. La expresión True es un booleano, \"Hello\" es una cadena, etc. Para conocer el tipo de algun dato utilizando ghci podemos hacer uso del comando *:t* seguido de la expresión.\n",
    "Podemos ver que ejecutando el comando :t sobre una expresión *se muestra esa misma expresión seguida de :: y de su tipo*. :: se puede leer como tiene el tipo. Los tipos explícitos siempre se escriben con su primera letra en mayúsculas. 'a', como hemos visto, tiene el tipo Char. El nombre de este tipo viene de “Character” (carácter en inglés). True tiene el tipo Bool. Tiene sentido. Pero, ¿qué es esto? Examinando el tipo de \"HOLA!\" obtenemos [Char]. Los corchetes definen una lista. Así que leemos esto como una lista de caracteres. Al contrario que las listas, cada tamaño de tupla tiene su propio tipo. Así que la expresión (True, 'a') tiene el tipo (Bool, Char), mientras que la expresión ('a', 'b', 'c') tiene el tipo (Char, Char, Char). 4 == 5 siempre devolverá False así que esta expresión tiene el tipo Bool.\n",
    "Las funciones también tiene tipos. Cuando escribimos nuestras propias funciones podemos darles un tipo explícito en su declaración. Generalmente está bien considerado escribir los tipos explícitamente en la declaración de un función, excepto cuando éstas son muy cortas."
   ]
  },
  {
   "cell_type": "code",
   "execution_count": null,
   "metadata": {
    "vscode": {
     "languageId": "haskell"
    }
   },
   "outputs": [],
   "source": [
    "-- Función que suma dos números\n",
    "sumar :: Int -> Int -- Quiere decir <nombre de funcion> :: <Tipo de entrada> -> <Tipo de salida>\n",
    "sumar x y = x + yx"
   ]
  }
 ],
 "metadata": {
  "language_info": {
   "name": "python"
  },
  "orig_nbformat": 4
 },
 "nbformat": 4,
 "nbformat_minor": 2
}
